{
 "cells": [
  {
   "cell_type": "markdown",
   "metadata": {},
   "source": [
    "# Inteligencia Artificial\n",
    "# - Laboratorio 8 -\n",
    "\n",
    "Integrantes\n",
    "- Mark Albrand \n",
    "- Jimena Hernández\n",
    "- Melissa Perez"
   ]
  },
  {
   "cell_type": "markdown",
   "metadata": {},
   "source": [
    "## Tasks 1 - Teoría"
   ]
  },
  {
   "cell_type": "markdown",
   "metadata": {},
   "source": [
    "\n",
    "### 1. Investigar el algoritmo AC-3 y su relación con el algoritmo de backtracking search\n",
    "### 2. Defina en sus propias palabras el término “Arc Consistency”"
   ]
  },
  {
   "cell_type": "code",
   "execution_count": null,
   "metadata": {},
   "outputs": [],
   "source": []
  },
  {
   "cell_type": "markdown",
   "metadata": {},
   "source": [
    "## Tasks 2 - CSP con Backtracking, Beam y Local Search\n",
    "\n",
    "Implementar tres algoritmos diferentes de satisfacción de restricciones para resolver un problema de programación de exámenes para cuatro estudiantes que toman siete exámenes diferentes. El\n",
    "problema implica calendarizar los exámenes para los estudiantes respetando diversas limitaciones y preferencias.\n",
    "\n",
    "Restricciones:\n",
    "- Todos los exámenes deberán realizarse en días diferentes, concretamente lunes, martes y miércoles.\n",
    "- Ningún estudiante deberá tener más de un examen por día.\n",
    "- Los estudiantes que toman el mismo curso no pueden tener exámenes programados para el mismo día"
   ]
  },
  {
   "cell_type": "markdown",
   "metadata": {},
   "source": [
    "### Definición de variables"
   ]
  },
  {
   "cell_type": "code",
   "execution_count": 29,
   "metadata": {},
   "outputs": [
    {
     "name": "stdout",
     "output_type": "stream",
     "text": [
      "{'Monday': {}, 'Tuesday': {}, 'Wednesday': {}}\n"
     ]
    }
   ],
   "source": [
    "exams = {\"Exam 1\", \"Exam 2\", \"Exam 3\", \"Exam 4\", \"Exam 5\", \"Exam 6\", \"Exam 7\"}\n",
    "students = {\"Student 1\", \"Student 2\", \"Student 3\", \"Student 4\"}\n",
    "days = {\"Monday\", \"Tuesday\", \"Wednesday\"}\n",
    "\n",
    "schedule = {d: {} for d in days}\n",
    "print(schedule)"
   ]
  },
  {
   "cell_type": "markdown",
   "metadata": {},
   "source": [
    "### Backtracking Search"
   ]
  },
  {
   "cell_type": "code",
   "execution_count": 35,
   "metadata": {},
   "outputs": [
    {
     "name": "stdout",
     "output_type": "stream",
     "text": [
      "Monday\n",
      "\tExam 5: Student 2\n",
      "\tExam 1: Student 3\n",
      "\tExam 4: Student 4\n",
      "\tExam 3: Student 1\n",
      "Tuesday\n",
      "\tExam 6: Student 2\n",
      "\tExam 7: Student 3\n",
      "\tExam 2: Student 4\n",
      "Wednesday\n"
     ]
    }
   ],
   "source": [
    "\n",
    "def backtracking(schedule, exams, students, days):\n",
    "    def is_valid(schedule, exam, student, day):\n",
    "        if student in schedule[day].values():\n",
    "            return False\n",
    "        if day in schedule and exam in schedule[day]:\n",
    "            return False\n",
    "        return True\n",
    "\n",
    "    if not exams:\n",
    "        return True\n",
    "    exam = exams.pop()\n",
    "    for day in days:\n",
    "        for student in students:\n",
    "            if is_valid(schedule, exam, student, day):\n",
    "                schedule[day][exam] = student\n",
    "                if backtracking(schedule, exams, students, days):\n",
    "                    return True\n",
    "                del schedule[day][exam]\n",
    "    exams.add(exam)\n",
    "    return False\n",
    "\n",
    "schedule_backtracking = {d: {} for d in days}\n",
    "backtracking(schedule, exams, students, days)\n",
    "\n",
    "for day, exams in schedule.items():\n",
    "    print(day)\n",
    "    for exam, student in exams.items():\n",
    "        print(f\"\\t{exam}: {student}\")"
   ]
  },
  {
   "cell_type": "markdown",
   "metadata": {},
   "source": [
    "### Beam Search"
   ]
  },
  {
   "cell_type": "code",
   "execution_count": 37,
   "metadata": {},
   "outputs": [
    {
     "name": "stdout",
     "output_type": "stream",
     "text": [
      "Monday\n",
      "\tExam 5: Student 2\n",
      "\tExam 1: Student 3\n",
      "\tExam 4: Student 4\n",
      "\tExam 3: Student 1\n",
      "Tuesday\n",
      "\tExam 6: Student 2\n",
      "\tExam 7: Student 3\n",
      "\tExam 2: Student 4\n",
      "Wednesday\n"
     ]
    }
   ],
   "source": [
    "def beam_search(schedule, exams, students, days, beam_width):\n",
    "    def is_valid(schedule, exam, student, day):\n",
    "        if student in schedule[day].values():\n",
    "            return False\n",
    "        if day in schedule and exam in schedule[day]:\n",
    "            return False\n",
    "        return True\n",
    "\n",
    "    def heuristic(schedule):\n",
    "        \"\"\"\n",
    "        Define la heurística para evaluar la calidad de una solución.\n",
    "        El valor retornado representa la cantidad de conflictos en el horario.\n",
    "        \"\"\"\n",
    "        return sum(len(set(schedule[day].values())) - len(schedule[day]) for day in days)\n",
    "\n",
    "    if not exams:\n",
    "        return True\n",
    "\n",
    "    exam = exams.pop()\n",
    "    candidates = []\n",
    "    for day in days:\n",
    "        for student in students:\n",
    "            if is_valid(schedule, exam, student, day):\n",
    "                schedule[day][exam] = student\n",
    "                candidates.append((day, student))\n",
    "                del schedule[day][exam]\n",
    "\n",
    "    candidates.sort(key=lambda x: heuristic(schedule))\n",
    "    candidates = candidates[:beam_width]\n",
    "\n",
    "    for day, student in candidates:\n",
    "        schedule[day][exam] = student\n",
    "        if beam_search(schedule, exams, students, days, beam_width):\n",
    "            return True\n",
    "        del schedule[day][exam]\n",
    "\n",
    "    exams.add(exam)\n",
    "    return False\n",
    "\n",
    "beam_width = 2\n",
    "\n",
    "success = beam_search(schedule, exams, students, days, beam_width)\n",
    "\n",
    "if success:\n",
    "    for day, exams in schedule.items():\n",
    "        print(day)\n",
    "        for exam, student in exams.items():\n",
    "            print(f\"\\t{exam}: {student}\")\n",
    "else:\n",
    "    print(\"No se encontró solución.\")"
   ]
  },
  {
   "cell_type": "markdown",
   "metadata": {},
   "source": [
    "### Local search"
   ]
  }
 ],
 "metadata": {
  "kernelspec": {
   "display_name": "Python 3",
   "language": "python",
   "name": "python3"
  },
  "language_info": {
   "codemirror_mode": {
    "name": "ipython",
    "version": 3
   },
   "file_extension": ".py",
   "mimetype": "text/x-python",
   "name": "python",
   "nbconvert_exporter": "python",
   "pygments_lexer": "ipython3",
   "version": "3.11.4"
  }
 },
 "nbformat": 4,
 "nbformat_minor": 2
}
