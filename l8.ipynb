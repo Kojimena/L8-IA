{
 "cells": [
  {
   "cell_type": "markdown",
   "metadata": {},
   "source": [
    "# Inteligencia Artificial\n",
    "# - Laboratorio 8 -\n",
    "\n",
    "Integrantes\n",
    "- Mark Albrand \n",
    "- Jimena Hernández\n",
    "- Melissa Perez"
   ]
  },
  {
   "cell_type": "markdown",
   "metadata": {},
   "source": [
    "## Tasks 1 - Teoría"
   ]
  },
  {
   "cell_type": "markdown",
   "metadata": {},
   "source": [
    "### 1. Investigar el algoritmo AC-3 y su relación con el algoritmo de backtracking search\n",
    "\n",
    "``` text\n",
    "The AC-3 Algorithm\n",
    "1: Put (v, C) in the set S for every variable v and every constraint involving v.\n",
    "2: while S is not empty do\n",
    "3: remove (Xi, Cij) from S (Cij is a constraint between Xi and Xj.)\n",
    "4: if Revise(Xi, Cij) then\n",
    "5: if dom(Xi) is empty then return false\n",
    "6: for Xk where Cki is a constraint between Xk and Xi do\n",
    "7: add (Xk, Cki) to S\n",
    "8: end for\n",
    "9: end if\n",
    "10: end while\n",
    "11: return true \n",
    "```\n",
    "Este algoritmo funciona sobre variables, sus dominios y las restricciones entre ellas. Este usa el arc consistency entre pares de variables, va eliminando valores del dominio de una variable que no este alineada con las restricciones impuestas por otra variables. Esto se puede ver reflejado en la línea 3. Este proceso se repite hasta que no se pueden eliminar más valores, o se encuentra una inconsistencia. Este algoritmo es eficaz ya que reduce el espacio de busqueda antes o durante la busqueda de soluciones.\n",
    "\n",
    "La relación que tiene con el backtracking search ya que implementar dicho algoritmo junto a bactracking search mejora significativamente la eficiencia del proceso de búsqueda, esto debido a que disminuye el número de posibilidades que el algoritmo de backtracking necesita explorar.\n",
    "\n",
    "Gao, A. (s.f.). Constraint Satisfaction Problems: Backtracking Search and Arc Consistency. Lecture 5. Basado en el trabajo de K. Leyton-Brown, K. Larson, y P. van Beek. Recuperado de https://cs.uwaterloo.ca/~a23gao/cs486686_s19/slides/lec05_csp_arc_consistency_backtracking_search_nosol.pdf\n",
    "\n",
    "### 2. Defina en sus propias palabras el término “Arc Consistency”\n",
    "\n",
    "Esta consiste en una técnica de propagación para restricciones binarias. Para cada valor de una variable en la restricción, buscamos un valor de soporte que se pueda asignar a la otra variable. Si no hay ninguno, el valor puede ser eliminado de forma segura. De lo contrario, la restricción si cuenta con arc consistency. Basicamente buscamos valores que obviamente pueden ser eliminados al considerar una única restricción de manera aislada. Si hemos eliminado todos esos valores, entonces todo es consistente.\n"
   ]
  },
  {
   "cell_type": "markdown",
   "metadata": {},
   "source": [
    "## Tasks 2 - CSP con Backtracking, Beam y Local Search\n",
    "\n",
    "Implementar tres algoritmos diferentes de satisfacción de restricciones para resolver un problema de programación de exámenes para cuatro estudiantes que toman siete exámenes diferentes. El\n",
    "problema implica calendarizar los exámenes para los estudiantes respetando diversas limitaciones y preferencias.\n",
    "\n",
    "Restricciones:\n",
    "- Todos los exámenes deberán realizarse en días diferentes, concretamente lunes, martes y miércoles.\n",
    "- Ningún estudiante deberá tener más de un examen por día.\n",
    "- Los estudiantes que toman el mismo curso no pueden tener exámenes programados para el mismo día"
   ]
  },
  {
   "cell_type": "markdown",
   "metadata": {},
   "source": [
    "### Definición de variables"
   ]
  },
  {
   "cell_type": "code",
   "execution_count": 12,
   "metadata": {},
   "outputs": [
    {
     "name": "stdout",
     "output_type": "stream",
     "text": [
      "{'Monday': {}, 'Tuesday': {}, 'Wednesday': {}}\n"
     ]
    }
   ],
   "source": [
    "exams = {\"Exam 1\", \"Exam 2\", \"Exam 3\", \"Exam 4\", \"Exam 5\", \"Exam 6\", \"Exam 7\"}\n",
    "students = {\"Student 1\", \"Student 2\", \"Student 3\", \"Student 4\"}\n",
    "days = {\"Monday\", \"Tuesday\", \"Wednesday\"}\n",
    "\n",
    "schedule = {d: {} for d in days}\n",
    "print(schedule)\n",
    "\n",
    "# metricas de tiempo de ejecucion\n",
    "from time import time"
   ]
  },
  {
   "cell_type": "markdown",
   "metadata": {},
   "source": [
    "### Backtracking Search"
   ]
  },
  {
   "cell_type": "code",
   "execution_count": 11,
   "metadata": {},
   "outputs": [
    {
     "name": "stdout",
     "output_type": "stream",
     "text": [
      "Tiempo de ejecución Backtracking search: 0.05412101745605469 milisegundos\n",
      "Monday\n",
      "\tExam 5: Student 1\n",
      "\tExam 1: Student 2\n",
      "\tExam 6: Student 3\n",
      "Tuesday\n",
      "\tExam 4: Student 1\n",
      "\tExam 2: Student 2\n",
      "Wednesday\n",
      "\tExam 7: Student 1\n",
      "\tExam 3: Student 2\n"
     ]
    }
   ],
   "source": [
    "def backtracking(schedule, exams, students, days):\n",
    "    def is_valid(schedule, exam, student, day):\n",
    "        if student in schedule[day].values():\n",
    "            return False\n",
    "        if day in schedule and exam in schedule[day]:\n",
    "            return False\n",
    "        return True\n",
    "\n",
    "    if not exams:\n",
    "        return True\n",
    "    exam = exams.pop()\n",
    "    for student in students:\n",
    "        for day in days:\n",
    "            if is_valid(schedule, exam, student, day):\n",
    "                schedule[day][exam] = student\n",
    "                if backtracking(schedule, exams, students, days):\n",
    "                    return True\n",
    "                del schedule[day][exam]\n",
    "    exams.add(exam)\n",
    "    return False\n",
    "\n",
    "time_start_backtracking = time()\n",
    "backtracking(schedule, exams, students, days)\n",
    "time_end_backtracking = time()\n",
    "\n",
    "time_diff = (time_end_backtracking - time_start_backtracking) * 1000\n",
    "print(f\"Tiempo de ejecución Backtracking search: {time_diff} milisegundos\")\n",
    "\n",
    "for day, exams in schedule.items():\n",
    "    print(day)\n",
    "    for exam, student in exams.items():\n",
    "        print(f\"\\t{exam}: {student}\")"
   ]
  },
  {
   "cell_type": "markdown",
   "metadata": {},
   "source": [
    "### Beam Search"
   ]
  },
  {
   "cell_type": "code",
   "execution_count": 13,
   "metadata": {},
   "outputs": [
    {
     "name": "stdout",
     "output_type": "stream",
     "text": [
      "Tiempo de ejecución Beam search: 0.17380714416503906 milisegundos\n",
      "Monday\n",
      "\tExam 5: Student 1\n",
      "\tExam 1: Student 2\n",
      "\tExam 6: Student 3\n",
      "Tuesday\n",
      "\tExam 4: Student 1\n",
      "\tExam 2: Student 2\n",
      "Wednesday\n",
      "\tExam 7: Student 1\n",
      "\tExam 3: Student 2\n"
     ]
    }
   ],
   "source": [
    "def beam_search(schedule, exams, students, days, beam_width):\n",
    "    def is_valid(schedule, exam, student, day):\n",
    "        if student in schedule[day].values():\n",
    "            return False\n",
    "        if day in schedule and exam in schedule[day]:\n",
    "            return False\n",
    "        return True\n",
    "\n",
    "    def heuristic(schedule):\n",
    "        \"\"\"\n",
    "        Define la heurística para evaluar la calidad de una solución.\n",
    "        El valor retornado representa la cantidad de conflictos en el horario.\n",
    "        \"\"\"\n",
    "        return sum(len(set(schedule[day].values())) - len(schedule[day]) for day in days)\n",
    "\n",
    "    if not exams:\n",
    "        return True\n",
    "\n",
    "    exam = exams.pop()\n",
    "    candidates = []\n",
    "    for student in students:\n",
    "        for day in days:\n",
    "            if is_valid(schedule, exam, student, day):\n",
    "                schedule[day][exam] = student\n",
    "                candidates.append((day, student))\n",
    "                del schedule[day][exam]\n",
    "\n",
    "    candidates.sort(key=lambda x: heuristic(schedule))\n",
    "    candidates = candidates[:beam_width]\n",
    "\n",
    "    for day, student in candidates:\n",
    "        schedule[day][exam] = student\n",
    "        if beam_search(schedule, exams, students, days, beam_width):\n",
    "            return True\n",
    "        del schedule[day][exam]\n",
    "\n",
    "    exams.add(exam)\n",
    "    return False\n",
    "\n",
    "beam_width = 2\n",
    "\n",
    "time_start_beam_search = time()\n",
    "success = beam_search(schedule, exams, students, days, beam_width)\n",
    "time_end_beam_search = time()\n",
    "\n",
    "time_diff = (time_end_beam_search - time_start_beam_search) * 1000\n",
    "print(f\"Tiempo de ejecución Beam search: {time_diff} milisegundos\")\n",
    "\n",
    "if success:\n",
    "    for day, exams in schedule.items():\n",
    "        print(day)\n",
    "        for exam, student in exams.items():\n",
    "            print(f\"\\t{exam}: {student}\")\n",
    "else:\n",
    "    print(\"No se encontró solución.\")"
   ]
  },
  {
   "cell_type": "markdown",
   "metadata": {},
   "source": [
    "### Local search"
   ]
  },
  {
   "cell_type": "code",
   "execution_count": 16,
   "metadata": {},
   "outputs": [
    {
     "name": "stdout",
     "output_type": "stream",
     "text": [
      "Tiempo de ejecución local search: 7.447004318237305 milisegundos\n",
      "Monday\n",
      "\tExam 4: Student 3\n",
      "Tuesday\n",
      "\tExam 3: Student 1\n",
      "\tExam 6: Student 4\n",
      "Wednesday\n",
      "\tExam 7: Student 3\n",
      "\tExam 1: Student 2\n",
      "\tExam 5: Student 4\n",
      "\tExam 2: Student 1\n"
     ]
    }
   ],
   "source": [
    "import random\n",
    "\n",
    "exams = {\"Exam 1\", \"Exam 2\", \"Exam 3\", \"Exam 4\", \"Exam 5\", \"Exam 6\", \"Exam 7\"}\n",
    "students = {\"Student 1\", \"Student 2\", \"Student 3\", \"Student 4\"}\n",
    "days = {\"Monday\", \"Tuesday\", \"Wednesday\"}\n",
    "\n",
    "schedule = {d: {} for d in days}\n",
    "\n",
    "def local_search(schedule, exams, students, days, max_iterations):\n",
    "    def is_valid(schedule, exam, student, day):\n",
    "        if student in schedule[day].values():\n",
    "            return False\n",
    "        if day in schedule and exam in schedule[day]:\n",
    "            return False\n",
    "        return True\n",
    "\n",
    "    def select_best_move(schedule):\n",
    "        best_move = None\n",
    "        best_delta = float('inf')\n",
    "        for source_day in days:\n",
    "            for target_day in days:\n",
    "                for exam, student in schedule[source_day].items():\n",
    "                    if is_valid(schedule, exam, student, target_day):\n",
    "                        delta_conflicts = 0\n",
    "                        if source_day != target_day:\n",
    "                            delta_conflicts -= 1\n",
    "                        for other_exam, other_student in schedule[target_day].items():\n",
    "                            if other_exam != exam and other_student == student:\n",
    "                                delta_conflicts += 1\n",
    "                        if delta_conflicts < best_delta:\n",
    "                            best_move = (exam, source_day, target_day)\n",
    "                            best_delta = delta_conflicts\n",
    "        return best_move\n",
    "\n",
    "    for exam in exams:\n",
    "        day = random.choice(days)\n",
    "        student = random.choice(list(students))\n",
    "        schedule[day][exam] = student\n",
    "\n",
    "    for _ in range(max_iterations):\n",
    "        move = select_best_move(schedule)\n",
    "        if move is None:\n",
    "            break\n",
    "        exam, source_day, target_day = move\n",
    "        student = schedule[source_day][exam]\n",
    "        del schedule[source_day][exam]\n",
    "        schedule[target_day][exam] = student\n",
    "\n",
    "    return schedule\n",
    "\n",
    "schedule = {day: {} for day in days}\n",
    "days = list(days)\n",
    "\n",
    "max_iterations = 1000\n",
    "\n",
    "time_start_local_search = time()\n",
    "new_schedule = local_search(schedule, exams, students, days, max_iterations)\n",
    "time_end_local_search = time()\n",
    "\n",
    "time_diff = (time_end_local_search - time_start_local_search) * 1000\n",
    "print(f\"Tiempo de ejecución local search: {time_diff} milisegundos\")\n",
    "\n",
    "for day, exams in new_schedule.items():\n",
    "    print(day)\n",
    "    for exam, student in exams.items():\n",
    "        print(f\"\\t{exam}: {student}\")"
   ]
  },
  {
   "cell_type": "markdown",
   "metadata": {},
   "source": [
    "## Conclusiones\n",
    "\n",
    "- En cuanto a los tiempos de ejecución, se puede ver que el algoritmo de backtracking y el algoritmo de beam search son más rápidos que el algoritmo de local search. Ambos con tiempos de ejecución rondando de 0.05 a 0.1 milisegundos, mientras que el algoritmo de local search tiene un tiempos de ejecución de 6.0 milisegundos. \n",
    "- Por otro lado, el algoritmo de local search es el que tiene más iteraciones, mientras que el algoritmo de backtracking es el que tiene menos iteraciones.\n",
    "- El algoritmo de local search desarrollado provee respuestas más robustas, populando los 3 días con exámenes, mientras que los otros algoritmos no siempre logran esto (pero siempre cumpliendo con las restricciones propuestas)."
   ]
  }
 ],
 "metadata": {
  "kernelspec": {
   "display_name": "Python 3",
   "language": "python",
   "name": "python3"
  },
  "language_info": {
   "codemirror_mode": {
    "name": "ipython",
    "version": 3
   },
   "file_extension": ".py",
   "mimetype": "text/x-python",
   "name": "python",
   "nbconvert_exporter": "python",
   "pygments_lexer": "ipython3",
   "version": "3.11.4"
  }
 },
 "nbformat": 4,
 "nbformat_minor": 2
}
